{
  "nbformat": 4,
  "nbformat_minor": 0,
  "metadata": {
    "colab": {
      "provenance": [],
      "authorship_tag": "ABX9TyOcjpwJUQfiXlBOdD0YPiPO",
      "include_colab_link": true
    },
    "kernelspec": {
      "name": "python3",
      "display_name": "Python 3"
    },
    "language_info": {
      "name": "python"
    }
  },
  "cells": [
    {
      "cell_type": "markdown",
      "metadata": {
        "id": "view-in-github",
        "colab_type": "text"
      },
      "source": [
        "<a href=\"https://colab.research.google.com/github/SAHIL-09861/sahil-khan/blob/main/Untitled3.ipynb\" target=\"_parent\"><img src=\"https://colab.research.google.com/assets/colab-badge.svg\" alt=\"Open In Colab\"/></a>"
      ]
    },
    {
      "cell_type": "code",
      "execution_count": 1,
      "metadata": {
        "id": "B19MkBe2aU95"
      },
      "outputs": [],
      "source": [
        "import pandas as pd\n",
        "import matplotlib.pyplot as plt\n",
        "import seaborn as sns\n",
        "import numpy as np\n",
        "from statsmodels.stats.proportion import proportions_ztest"
      ]
    },
    {
      "cell_type": "code",
      "source": [
        "# Reading dataset from a CSV file into a DataFrame\n",
        "data = pd.read_csv('/content/marketing_AB.csv')"
      ],
      "metadata": {
        "id": "SuqqV3cPa9kX",
        "colab": {
          "base_uri": "https://localhost:8080/"
        },
        "outputId": "5e23e7b4-5cce-4d8d-c3c7-6481bbc0e088"
      },
      "execution_count": 2,
      "outputs": [
        {
          "output_type": "stream",
          "name": "stderr",
          "text": [
            "<ipython-input-2-34a490794a82>:2: DtypeWarning: Columns (3) have mixed types. Specify dtype option on import or set low_memory=False.\n",
            "  data = pd.read_csv('/content/marketing_AB.csv')\n"
          ]
        }
      ]
    },
    {
      "cell_type": "markdown",
      "source": [
        "#H0 = There is no difference between the test groups\n",
        "#Ha = There is significantly difference between test groups"
      ],
      "metadata": {
        "id": "ZJBoHdrQFGYB"
      }
    },
    {
      "cell_type": "markdown",
      "source": [
        "#The alpha is = 0.05"
      ],
      "metadata": {
        "id": "ft2R32qQF87V"
      }
    },
    {
      "cell_type": "code",
      "source": [
        "# to look for the first 5 rows\n",
        "data.head()"
      ],
      "metadata": {
        "colab": {
          "base_uri": "https://localhost:8080/",
          "height": 206
        },
        "id": "jlVtXFp2bM5u",
        "outputId": "fa87ac39-2209-4e3c-fd36-bb9decf33e03"
      },
      "execution_count": 3,
      "outputs": [
        {
          "output_type": "execute_result",
          "data": {
            "text/plain": [
              "   Unnamed: 0  user id test group converted  total ads most ads day  \\\n",
              "0           0  1069124         ad     False      130.0       Monday   \n",
              "1           1  1119715         ad     False       93.0      Tuesday   \n",
              "2           2  1144181         ad     False       21.0      Tuesday   \n",
              "3           3  1435133         ad     False      355.0      Tuesday   \n",
              "4           4  1015700         ad     False      276.0       Friday   \n",
              "\n",
              "   most ads hour  \n",
              "0           20.0  \n",
              "1           22.0  \n",
              "2           18.0  \n",
              "3           10.0  \n",
              "4           14.0  "
            ],
            "text/html": [
              "\n",
              "  <div id=\"df-c0cb9e31-320b-4936-bc24-4cffecd6aa12\" class=\"colab-df-container\">\n",
              "    <div>\n",
              "<style scoped>\n",
              "    .dataframe tbody tr th:only-of-type {\n",
              "        vertical-align: middle;\n",
              "    }\n",
              "\n",
              "    .dataframe tbody tr th {\n",
              "        vertical-align: top;\n",
              "    }\n",
              "\n",
              "    .dataframe thead th {\n",
              "        text-align: right;\n",
              "    }\n",
              "</style>\n",
              "<table border=\"1\" class=\"dataframe\">\n",
              "  <thead>\n",
              "    <tr style=\"text-align: right;\">\n",
              "      <th></th>\n",
              "      <th>Unnamed: 0</th>\n",
              "      <th>user id</th>\n",
              "      <th>test group</th>\n",
              "      <th>converted</th>\n",
              "      <th>total ads</th>\n",
              "      <th>most ads day</th>\n",
              "      <th>most ads hour</th>\n",
              "    </tr>\n",
              "  </thead>\n",
              "  <tbody>\n",
              "    <tr>\n",
              "      <th>0</th>\n",
              "      <td>0</td>\n",
              "      <td>1069124</td>\n",
              "      <td>ad</td>\n",
              "      <td>False</td>\n",
              "      <td>130.0</td>\n",
              "      <td>Monday</td>\n",
              "      <td>20.0</td>\n",
              "    </tr>\n",
              "    <tr>\n",
              "      <th>1</th>\n",
              "      <td>1</td>\n",
              "      <td>1119715</td>\n",
              "      <td>ad</td>\n",
              "      <td>False</td>\n",
              "      <td>93.0</td>\n",
              "      <td>Tuesday</td>\n",
              "      <td>22.0</td>\n",
              "    </tr>\n",
              "    <tr>\n",
              "      <th>2</th>\n",
              "      <td>2</td>\n",
              "      <td>1144181</td>\n",
              "      <td>ad</td>\n",
              "      <td>False</td>\n",
              "      <td>21.0</td>\n",
              "      <td>Tuesday</td>\n",
              "      <td>18.0</td>\n",
              "    </tr>\n",
              "    <tr>\n",
              "      <th>3</th>\n",
              "      <td>3</td>\n",
              "      <td>1435133</td>\n",
              "      <td>ad</td>\n",
              "      <td>False</td>\n",
              "      <td>355.0</td>\n",
              "      <td>Tuesday</td>\n",
              "      <td>10.0</td>\n",
              "    </tr>\n",
              "    <tr>\n",
              "      <th>4</th>\n",
              "      <td>4</td>\n",
              "      <td>1015700</td>\n",
              "      <td>ad</td>\n",
              "      <td>False</td>\n",
              "      <td>276.0</td>\n",
              "      <td>Friday</td>\n",
              "      <td>14.0</td>\n",
              "    </tr>\n",
              "  </tbody>\n",
              "</table>\n",
              "</div>\n",
              "    <div class=\"colab-df-buttons\">\n",
              "\n",
              "  <div class=\"colab-df-container\">\n",
              "    <button class=\"colab-df-convert\" onclick=\"convertToInteractive('df-c0cb9e31-320b-4936-bc24-4cffecd6aa12')\"\n",
              "            title=\"Convert this dataframe to an interactive table.\"\n",
              "            style=\"display:none;\">\n",
              "\n",
              "  <svg xmlns=\"http://www.w3.org/2000/svg\" height=\"24px\" viewBox=\"0 -960 960 960\">\n",
              "    <path d=\"M120-120v-720h720v720H120Zm60-500h600v-160H180v160Zm220 220h160v-160H400v160Zm0 220h160v-160H400v160ZM180-400h160v-160H180v160Zm440 0h160v-160H620v160ZM180-180h160v-160H180v160Zm440 0h160v-160H620v160Z\"/>\n",
              "  </svg>\n",
              "    </button>\n",
              "\n",
              "  <style>\n",
              "    .colab-df-container {\n",
              "      display:flex;\n",
              "      gap: 12px;\n",
              "    }\n",
              "\n",
              "    .colab-df-convert {\n",
              "      background-color: #E8F0FE;\n",
              "      border: none;\n",
              "      border-radius: 50%;\n",
              "      cursor: pointer;\n",
              "      display: none;\n",
              "      fill: #1967D2;\n",
              "      height: 32px;\n",
              "      padding: 0 0 0 0;\n",
              "      width: 32px;\n",
              "    }\n",
              "\n",
              "    .colab-df-convert:hover {\n",
              "      background-color: #E2EBFA;\n",
              "      box-shadow: 0px 1px 2px rgba(60, 64, 67, 0.3), 0px 1px 3px 1px rgba(60, 64, 67, 0.15);\n",
              "      fill: #174EA6;\n",
              "    }\n",
              "\n",
              "    .colab-df-buttons div {\n",
              "      margin-bottom: 4px;\n",
              "    }\n",
              "\n",
              "    [theme=dark] .colab-df-convert {\n",
              "      background-color: #3B4455;\n",
              "      fill: #D2E3FC;\n",
              "    }\n",
              "\n",
              "    [theme=dark] .colab-df-convert:hover {\n",
              "      background-color: #434B5C;\n",
              "      box-shadow: 0px 1px 3px 1px rgba(0, 0, 0, 0.15);\n",
              "      filter: drop-shadow(0px 1px 2px rgba(0, 0, 0, 0.3));\n",
              "      fill: #FFFFFF;\n",
              "    }\n",
              "  </style>\n",
              "\n",
              "    <script>\n",
              "      const buttonEl =\n",
              "        document.querySelector('#df-c0cb9e31-320b-4936-bc24-4cffecd6aa12 button.colab-df-convert');\n",
              "      buttonEl.style.display =\n",
              "        google.colab.kernel.accessAllowed ? 'block' : 'none';\n",
              "\n",
              "      async function convertToInteractive(key) {\n",
              "        const element = document.querySelector('#df-c0cb9e31-320b-4936-bc24-4cffecd6aa12');\n",
              "        const dataTable =\n",
              "          await google.colab.kernel.invokeFunction('convertToInteractive',\n",
              "                                                    [key], {});\n",
              "        if (!dataTable) return;\n",
              "\n",
              "        const docLinkHtml = 'Like what you see? Visit the ' +\n",
              "          '<a target=\"_blank\" href=https://colab.research.google.com/notebooks/data_table.ipynb>data table notebook</a>'\n",
              "          + ' to learn more about interactive tables.';\n",
              "        element.innerHTML = '';\n",
              "        dataTable['output_type'] = 'display_data';\n",
              "        await google.colab.output.renderOutput(dataTable, element);\n",
              "        const docLink = document.createElement('div');\n",
              "        docLink.innerHTML = docLinkHtml;\n",
              "        element.appendChild(docLink);\n",
              "      }\n",
              "    </script>\n",
              "  </div>\n",
              "\n",
              "\n",
              "<div id=\"df-4da50daf-5933-4e50-98ca-ee21105de43a\">\n",
              "  <button class=\"colab-df-quickchart\" onclick=\"quickchart('df-4da50daf-5933-4e50-98ca-ee21105de43a')\"\n",
              "            title=\"Suggest charts\"\n",
              "            style=\"display:none;\">\n",
              "\n",
              "<svg xmlns=\"http://www.w3.org/2000/svg\" height=\"24px\"viewBox=\"0 0 24 24\"\n",
              "     width=\"24px\">\n",
              "    <g>\n",
              "        <path d=\"M19 3H5c-1.1 0-2 .9-2 2v14c0 1.1.9 2 2 2h14c1.1 0 2-.9 2-2V5c0-1.1-.9-2-2-2zM9 17H7v-7h2v7zm4 0h-2V7h2v10zm4 0h-2v-4h2v4z\"/>\n",
              "    </g>\n",
              "</svg>\n",
              "  </button>\n",
              "\n",
              "<style>\n",
              "  .colab-df-quickchart {\n",
              "      --bg-color: #E8F0FE;\n",
              "      --fill-color: #1967D2;\n",
              "      --hover-bg-color: #E2EBFA;\n",
              "      --hover-fill-color: #174EA6;\n",
              "      --disabled-fill-color: #AAA;\n",
              "      --disabled-bg-color: #DDD;\n",
              "  }\n",
              "\n",
              "  [theme=dark] .colab-df-quickchart {\n",
              "      --bg-color: #3B4455;\n",
              "      --fill-color: #D2E3FC;\n",
              "      --hover-bg-color: #434B5C;\n",
              "      --hover-fill-color: #FFFFFF;\n",
              "      --disabled-bg-color: #3B4455;\n",
              "      --disabled-fill-color: #666;\n",
              "  }\n",
              "\n",
              "  .colab-df-quickchart {\n",
              "    background-color: var(--bg-color);\n",
              "    border: none;\n",
              "    border-radius: 50%;\n",
              "    cursor: pointer;\n",
              "    display: none;\n",
              "    fill: var(--fill-color);\n",
              "    height: 32px;\n",
              "    padding: 0;\n",
              "    width: 32px;\n",
              "  }\n",
              "\n",
              "  .colab-df-quickchart:hover {\n",
              "    background-color: var(--hover-bg-color);\n",
              "    box-shadow: 0 1px 2px rgba(60, 64, 67, 0.3), 0 1px 3px 1px rgba(60, 64, 67, 0.15);\n",
              "    fill: var(--button-hover-fill-color);\n",
              "  }\n",
              "\n",
              "  .colab-df-quickchart-complete:disabled,\n",
              "  .colab-df-quickchart-complete:disabled:hover {\n",
              "    background-color: var(--disabled-bg-color);\n",
              "    fill: var(--disabled-fill-color);\n",
              "    box-shadow: none;\n",
              "  }\n",
              "\n",
              "  .colab-df-spinner {\n",
              "    border: 2px solid var(--fill-color);\n",
              "    border-color: transparent;\n",
              "    border-bottom-color: var(--fill-color);\n",
              "    animation:\n",
              "      spin 1s steps(1) infinite;\n",
              "  }\n",
              "\n",
              "  @keyframes spin {\n",
              "    0% {\n",
              "      border-color: transparent;\n",
              "      border-bottom-color: var(--fill-color);\n",
              "      border-left-color: var(--fill-color);\n",
              "    }\n",
              "    20% {\n",
              "      border-color: transparent;\n",
              "      border-left-color: var(--fill-color);\n",
              "      border-top-color: var(--fill-color);\n",
              "    }\n",
              "    30% {\n",
              "      border-color: transparent;\n",
              "      border-left-color: var(--fill-color);\n",
              "      border-top-color: var(--fill-color);\n",
              "      border-right-color: var(--fill-color);\n",
              "    }\n",
              "    40% {\n",
              "      border-color: transparent;\n",
              "      border-right-color: var(--fill-color);\n",
              "      border-top-color: var(--fill-color);\n",
              "    }\n",
              "    60% {\n",
              "      border-color: transparent;\n",
              "      border-right-color: var(--fill-color);\n",
              "    }\n",
              "    80% {\n",
              "      border-color: transparent;\n",
              "      border-right-color: var(--fill-color);\n",
              "      border-bottom-color: var(--fill-color);\n",
              "    }\n",
              "    90% {\n",
              "      border-color: transparent;\n",
              "      border-bottom-color: var(--fill-color);\n",
              "    }\n",
              "  }\n",
              "</style>\n",
              "\n",
              "  <script>\n",
              "    async function quickchart(key) {\n",
              "      const quickchartButtonEl =\n",
              "        document.querySelector('#' + key + ' button');\n",
              "      quickchartButtonEl.disabled = true;  // To prevent multiple clicks.\n",
              "      quickchartButtonEl.classList.add('colab-df-spinner');\n",
              "      try {\n",
              "        const charts = await google.colab.kernel.invokeFunction(\n",
              "            'suggestCharts', [key], {});\n",
              "      } catch (error) {\n",
              "        console.error('Error during call to suggestCharts:', error);\n",
              "      }\n",
              "      quickchartButtonEl.classList.remove('colab-df-spinner');\n",
              "      quickchartButtonEl.classList.add('colab-df-quickchart-complete');\n",
              "    }\n",
              "    (() => {\n",
              "      let quickchartButtonEl =\n",
              "        document.querySelector('#df-4da50daf-5933-4e50-98ca-ee21105de43a button');\n",
              "      quickchartButtonEl.style.display =\n",
              "        google.colab.kernel.accessAllowed ? 'block' : 'none';\n",
              "    })();\n",
              "  </script>\n",
              "</div>\n",
              "\n",
              "    </div>\n",
              "  </div>\n"
            ],
            "application/vnd.google.colaboratory.intrinsic+json": {
              "type": "dataframe",
              "variable_name": "data"
            }
          },
          "metadata": {},
          "execution_count": 3
        }
      ]
    },
    {
      "cell_type": "code",
      "source": [
        "# The dataset has a null value or not\n",
        "data.isnull().sum()"
      ],
      "metadata": {
        "colab": {
          "base_uri": "https://localhost:8080/",
          "height": 303
        },
        "id": "vf2szQbdM4Ed",
        "outputId": "ed0dac2d-09ff-475d-eda5-88e722405aeb"
      },
      "execution_count": 4,
      "outputs": [
        {
          "output_type": "execute_result",
          "data": {
            "text/plain": [
              "Unnamed: 0       0\n",
              "user id          0\n",
              "test group       1\n",
              "converted        1\n",
              "total ads        1\n",
              "most ads day     1\n",
              "most ads hour    1\n",
              "dtype: int64"
            ],
            "text/html": [
              "<div>\n",
              "<style scoped>\n",
              "    .dataframe tbody tr th:only-of-type {\n",
              "        vertical-align: middle;\n",
              "    }\n",
              "\n",
              "    .dataframe tbody tr th {\n",
              "        vertical-align: top;\n",
              "    }\n",
              "\n",
              "    .dataframe thead th {\n",
              "        text-align: right;\n",
              "    }\n",
              "</style>\n",
              "<table border=\"1\" class=\"dataframe\">\n",
              "  <thead>\n",
              "    <tr style=\"text-align: right;\">\n",
              "      <th></th>\n",
              "      <th>0</th>\n",
              "    </tr>\n",
              "  </thead>\n",
              "  <tbody>\n",
              "    <tr>\n",
              "      <th>Unnamed: 0</th>\n",
              "      <td>0</td>\n",
              "    </tr>\n",
              "    <tr>\n",
              "      <th>user id</th>\n",
              "      <td>0</td>\n",
              "    </tr>\n",
              "    <tr>\n",
              "      <th>test group</th>\n",
              "      <td>1</td>\n",
              "    </tr>\n",
              "    <tr>\n",
              "      <th>converted</th>\n",
              "      <td>1</td>\n",
              "    </tr>\n",
              "    <tr>\n",
              "      <th>total ads</th>\n",
              "      <td>1</td>\n",
              "    </tr>\n",
              "    <tr>\n",
              "      <th>most ads day</th>\n",
              "      <td>1</td>\n",
              "    </tr>\n",
              "    <tr>\n",
              "      <th>most ads hour</th>\n",
              "      <td>1</td>\n",
              "    </tr>\n",
              "  </tbody>\n",
              "</table>\n",
              "</div><br><label><b>dtype:</b> int64</label>"
            ]
          },
          "metadata": {},
          "execution_count": 4
        }
      ]
    },
    {
      "cell_type": "code",
      "source": [
        "# Total number of rows\n",
        "data.value_counts().sum()"
      ],
      "metadata": {
        "colab": {
          "base_uri": "https://localhost:8080/"
        },
        "id": "VjvyAtynbPnR",
        "outputId": "ae7a83b9-18bc-46b2-8357-2efe6dab26e4"
      },
      "execution_count": 5,
      "outputs": [
        {
          "output_type": "execute_result",
          "data": {
            "text/plain": [
              "np.int64(392402)"
            ]
          },
          "metadata": {},
          "execution_count": 5
        }
      ]
    },
    {
      "cell_type": "code",
      "source": [
        "# Count of rows groupby test group\n",
        "data['test group'].value_counts()"
      ],
      "metadata": {
        "colab": {
          "base_uri": "https://localhost:8080/",
          "height": 178
        },
        "id": "0lWjagl7cUht",
        "outputId": "62a42593-c68f-45c4-a7c5-022219e746f2"
      },
      "execution_count": 6,
      "outputs": [
        {
          "output_type": "execute_result",
          "data": {
            "text/plain": [
              "test group\n",
              "ad     378261\n",
              "psa     14141\n",
              "Name: count, dtype: int64"
            ],
            "text/html": [
              "<div>\n",
              "<style scoped>\n",
              "    .dataframe tbody tr th:only-of-type {\n",
              "        vertical-align: middle;\n",
              "    }\n",
              "\n",
              "    .dataframe tbody tr th {\n",
              "        vertical-align: top;\n",
              "    }\n",
              "\n",
              "    .dataframe thead th {\n",
              "        text-align: right;\n",
              "    }\n",
              "</style>\n",
              "<table border=\"1\" class=\"dataframe\">\n",
              "  <thead>\n",
              "    <tr style=\"text-align: right;\">\n",
              "      <th></th>\n",
              "      <th>count</th>\n",
              "    </tr>\n",
              "    <tr>\n",
              "      <th>test group</th>\n",
              "      <th></th>\n",
              "    </tr>\n",
              "  </thead>\n",
              "  <tbody>\n",
              "    <tr>\n",
              "      <th>ad</th>\n",
              "      <td>378261</td>\n",
              "    </tr>\n",
              "    <tr>\n",
              "      <th>psa</th>\n",
              "      <td>14141</td>\n",
              "    </tr>\n",
              "  </tbody>\n",
              "</table>\n",
              "</div><br><label><b>dtype:</b> int64</label>"
            ]
          },
          "metadata": {},
          "execution_count": 6
        }
      ]
    },
    {
      "cell_type": "code",
      "source": [
        "print(data.groupby('test group')['converted'].sum())"
      ],
      "metadata": {
        "colab": {
          "base_uri": "https://localhost:8080/"
        },
        "id": "x1WKqknSbX6T",
        "outputId": "e37e4ff5-18a0-462d-8cc7-94e57a2468e9"
      },
      "execution_count": 7,
      "outputs": [
        {
          "output_type": "stream",
          "name": "stdout",
          "text": [
            "test group\n",
            "ad     12809\n",
            "psa      336\n",
            "Name: converted, dtype: object\n"
          ]
        }
      ]
    },
    {
      "cell_type": "code",
      "source": [
        "sns.countplot(data=data,x='converted',hue='test group')\n",
        "plt.title(\"Conversion Rate by Test Group\")\n",
        "plt.xlabel('converted(0 = no, 1 = yes)')\n",
        "plt.legend(title ='group',labels=['control','exposed'])\n",
        "plt.show()\n",
        "print('control: The current method is performing well')\n",
        "print(\"Exposed: Need improvement\")"
      ],
      "metadata": {
        "colab": {
          "base_uri": "https://localhost:8080/",
          "height": 507
        },
        "id": "-6W2M1G59aqZ",
        "outputId": "272c778a-46c7-43b7-b060-7fc6b65b1e15"
      },
      "execution_count": 30,
      "outputs": [
        {
          "output_type": "display_data",
          "data": {
            "text/plain": [
              "<Figure size 640x480 with 1 Axes>"
            ],
            "image/png": "[encoded data removed]"
          },
          "metadata": {}
        },
        {
          "output_type": "stream",
          "name": "stdout",
          "text": [
            "control: The current method is performing well\n",
            "Exposed: Need improvement\n"
          ]
        }
      ]
    },
    {
      "cell_type": "code",
      "source": [
        "conversion = data.groupby(\"test group\")['converted'].sum()\n",
        "sample = data.groupby(\"test group\")['converted'].count()\n",
        "\n",
        "conversion_ad = conversion['ad']/sample['ad']\n",
        "conversion_psa = conversion['psa']/sample['psa']\n",
        "\n",
        "# If the PSA has the more conversion rate compare to AD\n",
        "lift = (conversion_psa-conversion_ad)/conversion_ad * 100\n",
        "\n",
        "#standard of error\n",
        "SE = np.sqrt(conversion_ad * (1-conversion_ad)/sample['ad'] + conversion_psa * (1 - conversion_psa) / sample['psa'])\n",
        "\n",
        "#CI is 95%\n",
        "margine = 1.96 * SE\n",
        "\n",
        "#making data frame for easy understanding\n",
        "data3= pd.DataFrame({'test group': ['ad','psa'],\n",
        "    'conversion_rate' : [conversion_ad, conversion_psa],\n",
        "    'upper_ci' : [conversion_ad+margine, conversion_psa+margine],\n",
        "    'lower_ci' : [conversion_ad-margine, conversion_psa-margine]})\n",
        "\n",
        "plt.figure(figsize=(6,4))\n",
        "sns.barplot(x='test group', y='conversion_rate', data=data3,hue='test group', palette=['skyblue','lightgreen'],legend=False)\n",
        "\n",
        "\n",
        "plt.errorbar(x=data3['test group'],\n",
        "             y = data3['conversion_rate'],\n",
        "             yerr=data3['upper_ci']-data3['conversion_rate'],\n",
        "             fmt='none',\n",
        "             c='black',\n",
        "             capsize=5)\n",
        "\n",
        "#plot\n",
        "plt.title('Balanced Conversion Rate By Test Group(CI is 95%)')\n",
        "plt.xlabel('Test Group')\n",
        "plt.ylabel('Conversion Rate')\n",
        "plt.ylim(0,data3['upper_ci'].max()*1.1)\n",
        "plt.tight_layout()\n",
        "plt.show()\n",
        "\n",
        "high = (conversion_ad-conversion_psa) + margine\n",
        "low = (conversion_ad-conversion_psa) - margine\n",
        "print(f\"lift: {lift:.2f}%\")\n",
        "print(f'upper: {high*100:.4f}')\n",
        "print(f\"lower: {low*100:.4f}\")\n",
        "print(f\"Margine: {margine*100:.4f}\")"
      ],
      "metadata": {
        "colab": {
          "base_uri": "https://localhost:8080/",
          "height": 476
        },
        "collapsed": true,
        "id": "Y7DHfcJ7bu9N",
        "outputId": "1362637e-0a14-4fc2-f708-51797d097af3"
      },
      "execution_count": 8,
      "outputs": [
        {
          "output_type": "display_data",
          "data": {
            "text/plain": [
              "<Figure size 600x400 with 1 Axes>"
            ],
            "image/png": "[encoded data removed]"
          },
          "metadata": {}
        },
        {
          "output_type": "stream",
          "name": "stdout",
          "text": [
            "lift: -29.83%\n",
            "upper: 1.2678\n",
            "lower: 0.7527\n",
            "Margine: 0.2576\n"
          ]
        }
      ]
    },
    {
      "cell_type": "code",
      "source": [
        "# # Just to see what are the other method to do it\n",
        "# data1 = data.groupby(\"test group\")['converted'].agg(['sum','count'])\n",
        "# conv = [data1.loc['ad','sum'],data1.loc['psa','sum']]\n",
        "# samp = [data1.loc['ad','count'],data1.loc['psa','count']]\n",
        "\n",
        "# conv_rate = [data1.loc['ad','sum']/data1.loc['ad','count']]\n",
        "# samp_rate = [data1.loc['psa','sum']/data1.loc['psa','count']]"
      ],
      "metadata": {
        "id": "TeMPFhzJhwku"
      },
      "execution_count": 9,
      "outputs": []
    },
    {
      "cell_type": "code",
      "source": [
        "count = data.groupby(\"test group\")['converted'].sum()\n",
        "nobs = data.groupby(\"test group\")['converted'].count()\n",
        "\n",
        "count = count['ad'],count['psa']\n",
        "nobs = nobs['ad'],nobs['psa']\n",
        "\n",
        "z_stats,p_val = proportions_ztest(count,nobs,alternative='two-sided')\n",
        "print(f'Z-statistic: {z_stats:.2f}')\n",
        "print(f'P-value: {p_val:}')"
      ],
      "metadata": {
        "id": "SPO7-V4Nk_IT",
        "colab": {
          "base_uri": "https://localhost:8080/"
        },
        "outputId": "b34cbf91-cf8e-4506-9f0b-6db591acfffb"
      },
      "execution_count": 10,
      "outputs": [
        {
          "output_type": "stream",
          "name": "stdout",
          "text": [
            "Z-statistic: 6.55\n",
            "P-value: 5.5663498732734295e-11\n"
          ]
        }
      ]
    },
    {
      "cell_type": "markdown",
      "source": [
        "#conclusion"
      ],
      "metadata": {
        "id": "4cMEJjRXHQ9j"
      }
    },
    {
      "cell_type": "markdown",
      "source": [
        "Thats an imbalance data but i still come to a conclusion the     \n",
        "     P_value = 1.7052807161559727e-13, which is < Alpha 0.05,         \n",
        "     so, we reject the null hypothesis test and the conversion rate of ad is higher"
      ],
      "metadata": {
        "id": "YLgA08hsHahF"
      }
    },
    {
      "cell_type": "markdown",
      "source": [
        "#As you can see the data (ad=564577,psa=23524) is imbalance so to balance the data i use sample()"
      ],
      "metadata": {
        "id": "WyKbSEkWDGoe"
      }
    },
    {
      "cell_type": "code",
      "source": [
        "sns.countplot(data=df_balanced,x='converted',hue='test group')\n",
        "plt.title(\"Conversion Rate by Test Group\")\n",
        "plt.xlabel('converted(0 = no, 1 = yes)')\n",
        "plt.legend(title ='group',labels=['control','exposed'])\n",
        "plt.show()\n",
        "print('control: The current method is performing well')\n",
        "print(\"Exposed: Need improvement\")"
      ],
      "metadata": {
        "colab": {
          "base_uri": "https://localhost:8080/",
          "height": 507
        },
        "id": "n31GnWpq9p28",
        "outputId": "d2fe313c-132b-4ee7-9898-baddb038863c"
      },
      "execution_count": 31,
      "outputs": [
        {
          "output_type": "display_data",
          "data": {
            "text/plain": [
              "<Figure size 640x480 with 1 Axes>"
            ],
            "image/png": "[encoded data removed]"
          },
          "metadata": {}
        },
        {
          "output_type": "stream",
          "name": "stdout",
          "text": [
            "control: The current method is performing well\n",
            "Exposed: Need improvement\n"
          ]
        }
      ]
    },
    {
      "cell_type": "code",
      "source": [
        "# To make equal number of AD as the number of PSA\n",
        "df_ad = data[data[\"test group\"] == \"ad\"].sample(n=23524, random_state=42)\n",
        "# Name of new data frame\n",
        "df_balanced = pd.concat([df_ad, data[data[\"test group\"] == \"psa\"]])"
      ],
      "metadata": {
        "id": "yzf3RkSEpwjt"
      },
      "execution_count": 11,
      "outputs": []
    },
    {
      "cell_type": "code",
      "source": [
        "conversion = df_balanced.groupby(\"test group\")['converted'].sum()\n",
        "sample = df_balanced.groupby(\"test group\")['converted'].count()\n",
        "\n",
        "conversion_ad = conversion['ad']/sample['ad']\n",
        "conversion_psa = conversion['psa']/sample['psa']\n",
        "\n",
        "#we are looking how bad 'psa' is compare to ad\n",
        "lift = (conversion_psa-conversion_ad)/conversion_ad * 100\n",
        "\n",
        "#standard of error\n",
        "SE = np.sqrt(conversion_ad * (1-conversion_ad)/sample['ad'] + conversion_psa * (1 - conversion_psa) / sample['psa'])\n",
        "\n",
        "#CI is 95%\n",
        "margine = 1.96 * SE\n",
        "\n",
        "#making data frame for easy understanding\n",
        "data3= pd.DataFrame({'test group': ['ad','psa'],\n",
        "    'conversion_rate' : [conversion_ad, conversion_psa],\n",
        "    'upper_ci' : [conversion_ad+margine, conversion_psa+margine],\n",
        "    'lower_ci' : [conversion_ad-margine, conversion_psa-margine]})\n",
        "\n",
        "plt.figure(figsize=(6,4))\n",
        "sns.barplot(x='test group', y='conversion_rate', data=data3,hue='test group', palette=['skyblue','lightgreen'],legend=False,)\n",
        "\n",
        "\n",
        "plt.errorbar(x=data3['test group'],\n",
        "             y = data3['conversion_rate'],\n",
        "             yerr=data3['upper_ci']-data3['conversion_rate'],\n",
        "             fmt='none',\n",
        "             c='black',\n",
        "             capsize=5)\n",
        "\n",
        "#plot\n",
        "plt.title('Balanced Conversion Rate By Test Group(CI is 95%)')\n",
        "plt.xlabel('Test Group')\n",
        "plt.ylabel('Conversion Rate')\n",
        "plt.ylim(0,data3['upper_ci'].max()*1.1)\n",
        "plt.tight_layout()\n",
        "plt.show()\n",
        "\n",
        "upper_ci = ([conversion_ad+margine, conversion_psa+margine])\n",
        "lower_ci = ([conversion_ad-margine, conversion_psa-margine])\n",
        "\n",
        "lower = ((conversion_ad-conversion_psa) - margine) * 100\n",
        "higher = ((conversion_ad-conversion_psa) + margine)* 100\n",
        "print(f\"Higher: {higher:.4f}\")\n",
        "print(f\"Lower: {lower:.4f}\")\n",
        "print(f\"margine: {margine:.4f}\")\n",
        "print(f\"lift: {lift:.4f}\")"
      ],
      "metadata": {
        "colab": {
          "base_uri": "https://localhost:8080/",
          "height": 476
        },
        "id": "1woXl-QECHbo",
        "outputId": "de62ee7a-42a5-42c1-d1fe-c61ae5ff85d7"
      },
      "execution_count": 12,
      "outputs": [
        {
          "output_type": "display_data",
          "data": {
            "text/plain": [
              "<Figure size 600x400 with 1 Axes>"
            ],
            "image/png": "[encoded data removed]"
          },
          "metadata": {}
        },
        {
          "output_type": "stream",
          "name": "stdout",
          "text": [
            "Higher: 1.4271\n",
            "Lower: 0.7413\n",
            "margine: 0.0034\n",
            "lift: -31.3333\n"
          ]
        }
      ]
    },
    {
      "cell_type": "code",
      "source": [
        "#count = number of conversion\n",
        "#nobs = total sample size\n",
        "count = df_balanced.groupby(\"test group\")['converted'].sum()\n",
        "nobs = df_balanced.groupby(\"test group\")['converted'].count()\n",
        "\n",
        "count = count['ad'],count['psa']\n",
        "nobs = nobs['ad'],nobs['psa']\n",
        "\n",
        "#alpha = 0.05\n",
        "z_stats,p_val = proportions_ztest(count, nobs, alternative = 'two-sided')\n",
        "print(f'z_statistic: {z_stats}')\n",
        "print(f\"p_value: {p_val}\")"
      ],
      "metadata": {
        "colab": {
          "base_uri": "https://localhost:8080/"
        },
        "id": "hdE-rEEJeNzv",
        "outputId": "c911f358-714c-4fac-e837-8b1282e753e4"
      },
      "execution_count": 13,
      "outputs": [
        {
          "output_type": "stream",
          "name": "stdout",
          "text": [
            "z_statistic: 5.922430741856563\n",
            "p_value: 3.172174172258043e-09\n"
          ]
        }
      ]
    },
    {
      "cell_type": "markdown",
      "source": [
        "##conclusion\n"
      ],
      "metadata": {
        "id": "zkPj9rpZQjTs"
      }
    },
    {
      "cell_type": "markdown",
      "source": [
        "As we have taken the alpha = 0.05 the p_value < alpha              \n",
        "so we reject the **null Hypothesis**"
      ],
      "metadata": {
        "id": "Z3FsGxqsGZlP"
      }
    }
  ]
}